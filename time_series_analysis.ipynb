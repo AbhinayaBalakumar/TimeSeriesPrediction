{
 "cells": [
  {
   "cell_type": "markdown",
   "metadata": {},
   "source": [
    "# Time Series Prediction Analysis\n",
    "\n",
    "This notebook demonstrates time series forecasting using LSTM and Prophet models with comprehensive feature engineering and hyperparameter tuning."
   ]
  },
  {
   "cell_type": "code",
   "execution_count": null,
   "metadata": {},
   "outputs": [],
   "source": [
    "import sys\n",
    "sys.path.append('../src')\n",
    "\n",
    "import pandas as pd\n",
    "import numpy as np\n",
    "import matplotlib.pyplot as plt\n",
    "import seaborn as sns\n",
    "\n",
    "from data.data_loader import DataLoader\n",
    "from features.feature_engineer import FeatureEngineer\n",
    "from models.lstm_model import LSTMPredictor\n",
    "from models.prophet_model import ProphetPredictor\n",
    "from evaluation.evaluator import ModelEvaluator\n",
    "from utils.config import Config\n",
    "\n",
    "plt.style.use('seaborn-v0_8')\n",
    "%matplotlib inline"
   ]
  },
  {
   "cell_type": "markdown",
   "metadata": {},
   "source": [
    "## 1. Data Loading and Exploration"
   ]
  },
  {
   "cell_type": "code",
   "execution_count": null,
   "metadata": {},
   "outputs": [],
   "source": [
    "# Load stock data\n",
    "config = Config('stock')\n",
    "data_loader = DataLoader(config)\n",
    "raw_data = data_loader.load_data()\n",
    "\n",
    "print(f\"Data shape: {raw_data.shape}\")\n",
    "print(f\"Date range: {raw_data['Date'].min()} to {raw_data['Date'].max()}\")\n",
    "raw_data.head()"
   ]
  },
  {
   "cell_type": "code",
   "execution_count": null,
   "metadata": {},
   "outputs": [],
   "source": [
    "# Visualize raw data\n",
    "plt.figure(figsize=(12, 6))\n",
    "plt.plot(raw_data['Date'], raw_data['Close'])\n",
    "plt.title('Stock Price Over Time')\n",
    "plt.xlabel('Date')\n",
    "plt.ylabel('Close Price')\n",
    "plt.xticks(rotation=45)\n",
    "plt.grid(True, alpha=0.3)\n",
    "plt.tight_layout()\n",
    "plt.show()"
   ]
  },
  {
   "cell_type": "markdown",
   "metadata": {},
   "source": [
    "## 2. Feature Engineering"
   ]
  },
  {
   "cell_type": "code",
   "execution_count": null,
   "metadata": {},
   "outputs": [],
   "source": [
    "# Create features\n",
    "feature_engineer = FeatureEngineer(config)\n",
    "processed_data = feature_engineer.create_features(raw_data)\n",
    "\n",
    "print(f\"Number of features: {len(processed_data['feature_names'])}\")\n",
    "print(f\"Training samples: {len(processed_data['X_train'])}\")\n",
    "print(f\"Test samples: {len(processed_data['X_test'])}\")\n",
    "print(f\"LSTM sequences - Train: {len(processed_data['X_train_seq'])}, Test: {len(processed_data['X_test_seq'])}\")"
   ]
  },
  {
   "cell_type": "markdown",
   "metadata": {},
   "source": [
    "## 3. Model Training and Prediction"
   ]
  },
  {
   "cell_type": "code",
   "execution_count": null,
   "metadata": {},
   "outputs": [],
   "source": [
    "# Train LSTM model\n",
    "lstm_model = LSTMPredictor(config)\n",
    "lstm_predictions = lstm_model.train_and_predict(processed_data)\n",
    "\n",
    "print(f\"LSTM predictions shape: {lstm_predictions.shape}\")"
   ]
  },
  {
   "cell_type": "code",
   "execution_count": null,
   "metadata": {},
   "outputs": [],
   "source": [
    "# Train Prophet model\n",
    "prophet_model = ProphetPredictor(config)\n",
    "prophet_predictions = prophet_model.train_and_predict(processed_data)\n",
    "\n",
    "print(f\"Prophet predictions shape: {prophet_predictions.shape}\")"
   ]
  },
  {
   "cell_type": "markdown",
   "metadata": {},
   "source": [
    "## 4. Model Evaluation"
   ]
  },
  {
   "cell_type": "code",
   "execution_count": null,
   "metadata": {},
   "outputs": [],
   "source": [
    "# Evaluate models\n",
    "evaluator = ModelEvaluator(config)\n",
    "\n",
    "lstm_metrics = evaluator.evaluate(lstm_predictions, processed_data['y_test_seq'])\n",
    "prophet_metrics = evaluator.evaluate(prophet_predictions, processed_data['y_test'])\n",
    "\n",
    "print(\"LSTM Metrics:\")\n",
    "for metric, value in lstm_metrics.items():\n",
    "    print(f\"  {metric}: {value:.4f}\")\n",
    "\n",
    "print(\"\\nProphet Metrics:\")\n",
    "for metric, value in prophet_metrics.items():\n",
    "    print(f\"  {metric}: {value:.4f}\")"
   ]
  },
  {
   "cell_type": "markdown",
   "metadata": {},
   "source": [
    "## 5. Visualization"
   ]
  },
  {
   "cell_type": "code",
   "execution_count": null,
   "metadata": {},
   "outputs": [],
   "source": [
    "# Plot predictions\n",
    "plt.figure(figsize=(15, 8))\n",
    "\n",
    "# Plot actual values\n",
    "plt.plot(processed_data['y_test'][:len(prophet_predictions)], label='Actual', color='black', linewidth=2)\n",
    "\n",
    "# Plot predictions\n",
    "if len(lstm_predictions) > 0:\n",
    "    plt.plot(lstm_predictions, label='LSTM', color='blue', alpha=0.7)\n",
    "\n",
    "if len(prophet_predictions) > 0:\n",
    "    plt.plot(prophet_predictions, label='Prophet', color='red', alpha=0.7)\n",
    "\n",
    "plt.title('Time Series Predictions Comparison')\n",
    "plt.xlabel('Time Steps')\n",
    "plt.ylabel('Value')\n",
    "plt.legend()\n",
    "plt.grid(True, alpha=0.3)\n",
    "plt.tight_layout()\n",
    "plt.show()"
   ]
  }
 ],
 "metadata": {
  "kernelspec": {
   "display_name": "Python 3",
   "language": "python",
   "name": "python3"
  },
  "language_info": {
   "codemirror_mode": {
    "name": "ipython",
    "version": 3
   },
   "file_extension": ".py",
   "mimetype": "text/x-python",
   "name": "python",
   "nbconvert_exporter": "python",
   "pygments_lexer": "ipython3",
   "version": "3.8.0"
  }
 },
 "nbformat": 4,
 "nbformat_minor": 4
}